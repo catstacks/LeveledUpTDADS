{
 "cells": [
  {
   "cell_type": "markdown",
   "metadata": {},
   "source": [
    "# Creating a simple dice app with python"
   ]
  },
  {
   "cell_type": "markdown",
   "metadata": {},
   "source": [
    "This simple dice app allows users to decide the number of sides on the die.  \n",
    "**Topics covered:** functions, data types (string and int), assigning variables, user inputs, if/else statements, print statements, while loops, imports.  "
   ]
  },
  {
   "cell_type": "markdown",
   "metadata": {},
   "source": [
    "## Version 1 - Using IF/ELSE "
   ]
  },
  {
   "cell_type": "markdown",
   "metadata": {},
   "source": [
    "### Step 1 - Import random"
   ]
  },
  {
   "cell_type": "code",
   "execution_count": null,
   "metadata": {},
   "outputs": [],
   "source": [
    "import random\n",
    "def dice_roll():\n",
    "    sides = int(input('Input the number of sides on your die: '))\n",
    "    roll = random.randint(1, sides)\n",
    "    print('You rolled a', roll)   \n",
    "    roll_again = str(input('Would you like to roll again? Please enter Y or N to continue: '))\n",
    "    if roll_again == 'Y':\n",
    "        return dice_roll()\n",
    "    else: \n",
    "        print('Thanks for playing!') \n",
    "  \n",
    "dice_roll()\n",
    "    "
   ]
  },
  {
   "cell_type": "markdown",
   "metadata": {},
   "source": [
    "### Step 2 - Define a function "
   ]
  },
  {
   "cell_type": "markdown",
   "metadata": {},
   "source": [
    "### Step 3 - Assign variables"
   ]
  },
  {
   "cell_type": "markdown",
   "metadata": {},
   "source": [
    "### Step 4"
   ]
  },
  {
   "cell_type": "markdown",
   "metadata": {},
   "source": [
    "### Step 5"
   ]
  },
  {
   "cell_type": "markdown",
   "metadata": {},
   "source": [
    "## Version 2 - Using WHILE loop"
   ]
  },
  {
   "cell_type": "code",
   "execution_count": null,
   "metadata": {},
   "outputs": [],
   "source": [
    "import random\n",
    "\n",
    "def dice_roll():\n",
    "    sides = int(input('Input the number of sides on your die: '))\n",
    "    roll = random.randint(1, sides)\n",
    "    print('You rolled a', roll)   \n",
    "    roll_again = str(input('Would you like to roll again? Please enter Y or N to continue: '))\n",
    "    while roll_again == 'Y':\n",
    "        return dice_roll()\n",
    "    print('Thanks for playing!') \n",
    "  \n",
    "dice_roll()"
   ]
  },
  {
   "cell_type": "markdown",
   "metadata": {},
   "source": [
    "## Stretch Version - Importing the dice as an application  "
   ]
  },
  {
   "cell_type": "code",
   "execution_count": null,
   "metadata": {},
   "outputs": [],
   "source": [
    "# dice.py file\n",
    "import random\n",
    "\n",
    "def roll_dice(num):\n",
    "    return random.randint(1, num)"
   ]
  },
  {
   "cell_type": "code",
   "execution_count": null,
   "metadata": {},
   "outputs": [],
   "source": [
    "# dice_app.py file\n",
    "import dice\n",
    "\n",
    "print(dice.roll_dice(20))"
   ]
  }
 ],
 "metadata": {
  "language_info": {
   "name": "python"
  },
  "orig_nbformat": 4
 },
 "nbformat": 4,
 "nbformat_minor": 2
}
