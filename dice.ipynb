{
 "cells": [
  {
   "cell_type": "markdown",
   "metadata": {},
   "source": [
    "# Creating a simple dice app with python"
   ]
  },
  {
   "cell_type": "markdown",
   "metadata": {},
   "source": [
    "This simple dice app allows users to decide the number of sides on the die.  \n",
    "**Topics covered:** functions, data types (string and int), assigning variables, user inputs, if/else statements, print statements, while loops, imports.  "
   ]
  },
  {
   "cell_type": "markdown",
   "metadata": {},
   "source": [
    "## Version 1 - Using IF/ELSE "
   ]
  },
  {
   "cell_type": "markdown",
   "metadata": {},
   "source": [
    "### The finished code"
   ]
  },
  {
   "cell_type": "code",
   "execution_count": null,
   "metadata": {},
   "outputs": [],
   "source": [
    "import random\n",
    "\n",
    "def dice_roll():\n",
    "    sides = int(input('Input the number of sides on your die: '))\n",
    "    roll = random.randint(1, sides)\n",
    "    print('You rolled a', roll)   \n",
    "    roll_again = str(input('Would you like to roll again? Please enter Y or N to continue: '))\n",
    "    if roll_again == 'Y':\n",
    "        return dice_roll()\n",
    "    else: \n",
    "        print('Thanks for playing!') \n",
    "  \n",
    "dice_roll()"
   ]
  },
  {
   "cell_type": "markdown",
   "metadata": {},
   "source": [
    "### Step 1 - Import random"
   ]
  },
  {
   "cell_type": "markdown",
   "metadata": {},
   "source": [
    "Python has an extensive library of useful packages that we can import. One such example is **random** which will be used to generate random numbers to simulate the probabilistic nature of a die.  "
   ]
  },
  {
   "cell_type": "code",
   "execution_count": null,
   "metadata": {},
   "outputs": [],
   "source": [
    "import random"
   ]
  },
  {
   "cell_type": "markdown",
   "metadata": {},
   "source": [
    "### Step 2 - Define a function "
   ]
  },
  {
   "cell_type": "markdown",
   "metadata": {},
   "source": [
    "Give the function a useful and memorable name that relates to what it does when used. As we are creating a dice rolling app, dice_roll has been suitably chosen as the function name.  \n",
    "\n",
    "Function structure >> **def *the_function_name*():**"
   ]
  },
  {
   "cell_type": "code",
   "execution_count": null,
   "metadata": {},
   "outputs": [],
   "source": [
    "def dice_roll(): "
   ]
  },
  {
   "cell_type": "markdown",
   "metadata": {},
   "source": [
    "### Step 3 - Assign variables"
   ]
  },
  {
   "cell_type": "markdown",
   "metadata": {},
   "source": [
    "Now we want to start making our function useful.  \n",
    "  \n",
    "We must now *declare* and *assign* variables within our function or, in other words, create the building blocks of the function. When thinking of dice, we need some way to represent the number of sides and an ability to roll. Therefore we will create **2** variables called sides and roll."
   ]
  },
  {
   "cell_type": "code",
   "execution_count": null,
   "metadata": {},
   "outputs": [],
   "source": [
    " import random\n",
    " def dice_roll():\n",
    "     sides = int(input('Input the number of sides on your die: ')) \n",
    "     roll = random.randint(1, sides) "
   ]
  },
  {
   "cell_type": "markdown",
   "metadata": {},
   "source": [
    "#### *sides explained*"
   ]
  },
  {
   "cell_type": "markdown",
   "metadata": {},
   "source": [
    "We want the sides to be an int (integer) data type because we want the sides to be in whole numbers. We also want the user to be able to choose the number of sides, for this we use the **input() function** which is a function that comes pre-installed with python. Within the input() function we enter the text we want our user to see: 'Input the number of sides on your die: '.  \n",
    "\n",
    "Numerical input structure >> ***the_variable* = int(input('The message you want your user to see: '))** "
   ]
  },
  {
   "cell_type": "markdown",
   "metadata": {},
   "source": [
    "#### *roll explained*"
   ]
  },
  {
   "cell_type": "markdown",
   "metadata": {},
   "source": [
    "We want the rolls to be generated randomly to reflect the probabilistic nature of a die so now we use the random function. We use randint (from random import) because we want whole numbers to be generated. Instead of a fixed value, the sides variable we created will act as the upper limit for the random numbers generated. This means that the number the user writes will become the maximum number the dice can return. Generate random integer structure >> the_variable = random.randint(minimum_value, maximum_value)"
   ]
  },
  {
   "cell_type": "markdown",
   "metadata": {},
   "source": [
    "### Step 4 - Write the IF/ELSE statement"
   ]
  },
  {
   "cell_type": "markdown",
   "metadata": {},
   "source": [
    "### Step 5 - Invoke the function"
   ]
  },
  {
   "cell_type": "markdown",
   "metadata": {},
   "source": [
    "## Version 2 - Using WHILE loop"
   ]
  },
  {
   "cell_type": "code",
   "execution_count": null,
   "metadata": {},
   "outputs": [],
   "source": [
    "import random\n",
    "\n",
    "def dice_roll():\n",
    "    sides = int(input('Input the number of sides on your die: '))\n",
    "    roll = random.randint(1, sides)\n",
    "    print('You rolled a', roll)   \n",
    "    roll_again = str(input('Would you like to roll again? Please enter Y or N to continue: '))\n",
    "    while roll_again == 'Y':\n",
    "        return dice_roll()\n",
    "    print('Thanks for playing!') \n",
    "  \n",
    "dice_roll()"
   ]
  },
  {
   "cell_type": "markdown",
   "metadata": {},
   "source": [
    "## Stretch Version - Importing the dice as an application  "
   ]
  },
  {
   "cell_type": "code",
   "execution_count": null,
   "metadata": {},
   "outputs": [],
   "source": [
    "# dice.py file\n",
    "import random\n",
    "\n",
    "def roll_dice(num):\n",
    "    return random.randint(1, num)"
   ]
  },
  {
   "cell_type": "code",
   "execution_count": null,
   "metadata": {},
   "outputs": [],
   "source": [
    "# dice_app.py file\n",
    "import dice\n",
    "\n",
    "print(dice.roll_dice(20))"
   ]
  }
 ],
 "metadata": {
  "language_info": {
   "name": "python"
  },
  "orig_nbformat": 4
 },
 "nbformat": 4,
 "nbformat_minor": 2
}
