{
 "cells": [
  {
   "cell_type": "markdown",
   "metadata": {},
   "source": [
    "# Creating a simple dice app with python"
   ]
  },
  {
   "cell_type": "markdown",
   "metadata": {},
   "source": [
    "This simple dice app allows users to decide the number of sides on the die.  \n",
    "**Topics covered:** functions, data types (string and int), assigning variables, user inputs, if/else statements, print statements, while loops, imports.  "
   ]
  },
  {
   "cell_type": "markdown",
   "metadata": {},
   "source": [
    "## Version 1 - Using IF/ELSE "
   ]
  },
  {
   "cell_type": "markdown",
   "metadata": {},
   "source": [
    "Relevant code snippets are uncommented for each step."
   ]
  },
  {
   "cell_type": "markdown",
   "metadata": {},
   "source": [
    "### The finished code"
   ]
  },
  {
   "cell_type": "code",
   "execution_count": null,
   "metadata": {},
   "outputs": [],
   "source": [
    "import random\n",
    "\n",
    "def dice_roll():\n",
    "    sides = int(input('Input the number of sides on your die: '))\n",
    "    roll = random.randint(1, sides)\n",
    "    print('You rolled a', roll)   \n",
    "    roll_again = str(input('Would you like to roll again? Please enter Y or N to continue: '))\n",
    "    if roll_again == 'Y' or roll_again == 'y' or roll_again == 'yes'  or roll_again == 'YES':\n",
    "        return dice_roll()\n",
    "    else: \n",
    "        print('Thanks for playing!') \n",
    "  \n",
    "dice_roll()"
   ]
  },
  {
   "cell_type": "markdown",
   "metadata": {},
   "source": [
    "### Step 1 - Import random"
   ]
  },
  {
   "cell_type": "markdown",
   "metadata": {},
   "source": [
    "Python has an extensive library of useful packages that we can import. One such example is **random** which will be used to generate random numbers to simulate the probabilistic nature of a die.  "
   ]
  },
  {
   "cell_type": "code",
   "execution_count": null,
   "metadata": {},
   "outputs": [],
   "source": [
    "import random"
   ]
  },
  {
   "cell_type": "markdown",
   "metadata": {},
   "source": [
    "### Step 2 - Define a function "
   ]
  },
  {
   "cell_type": "markdown",
   "metadata": {},
   "source": [
    "Give the function a useful and memorable name that relates to what it does when used. As we are creating a dice rolling app, dice_roll has been suitably chosen as the function name.  \n",
    "\n",
    "Function structure >> **def *the_function_name*():**"
   ]
  },
  {
   "cell_type": "code",
   "execution_count": null,
   "metadata": {},
   "outputs": [],
   "source": [
    "#import random\n",
    "\n",
    "def dice_roll(): "
   ]
  },
  {
   "cell_type": "markdown",
   "metadata": {},
   "source": [
    "### Step 3 - Assign variables"
   ]
  },
  {
   "cell_type": "markdown",
   "metadata": {},
   "source": [
    "Now we want to start making our function useful.  \n",
    "  \n",
    "We must now *declare* and *assign* variables within our function or, in other words, create the building blocks of the function. When thinking of dice, we need some way to represent the number of sides and an ability to roll. Therefore we will create **2** variables called sides and roll."
   ]
  },
  {
   "cell_type": "code",
   "execution_count": null,
   "metadata": {},
   "outputs": [],
   "source": [
    "#import random\n",
    "\n",
    "#def dice_roll():\n",
    "     sides = int(input('Input the number of sides on your die: ')) \n",
    "     roll = random.randint(1, sides) "
   ]
  },
  {
   "cell_type": "markdown",
   "metadata": {},
   "source": [
    "#### *sides explained*"
   ]
  },
  {
   "cell_type": "markdown",
   "metadata": {},
   "source": [
    "We want the sides to be an int (integer) data type because we want the sides to be in whole numbers. We also want the user to be able to choose the number of sides, for this we use the **input() function** which is a function that comes pre-installed with python. Within the input() function we enter the text we want our user to see: 'Input the number of sides on your die: '.  \n",
    "\n",
    "Numerical input structure >> ***the_variable* = int(input('The message you want your user to see: '))** "
   ]
  },
  {
   "cell_type": "markdown",
   "metadata": {},
   "source": [
    "#### *roll explained*"
   ]
  },
  {
   "cell_type": "markdown",
   "metadata": {},
   "source": [
    "We want the rolls to be generated randomly to reflect the probabilistic nature of a die so now we use the random function. We use randint (from random import) because we want whole numbers to be generated. Instead of a fixed value, the sides variable we created will act as the upper limit for the random numbers generated. This means that the number the user writes will become the maximum number the dice can return.  \n",
    "\n",
    "Generate random integer structure >> ***the_variable* = random.randint(minimum_value, maximum_value)**"
   ]
  },
  {
   "cell_type": "markdown",
   "metadata": {},
   "source": [
    "### Step 4 - Write the print statement"
   ]
  },
  {
   "cell_type": "markdown",
   "metadata": {},
   "source": [
    "We add a print stateent so that the user can actually see the number the dice app generated. To do this we use the print() function. The user will see the text written in the print statement followed by the roll (the randomly generated number).\n",
    "\n",
    "Print statement with variable structure >> **print('The text you want the user to see', *a_variable*)**"
   ]
  },
  {
   "cell_type": "code",
   "execution_count": null,
   "metadata": {},
   "outputs": [],
   "source": [
    "#import random\n",
    "\n",
    "#def dice_roll():\n",
    "    #sides = int(input('Input the number of sides on your die: '))\n",
    "    #roll = random.randint(1, sides)\n",
    "    print('You rolled a', roll)"
   ]
  },
  {
   "cell_type": "markdown",
   "metadata": {},
   "source": [
    "### Step 5 - Create option to roll again with user input. Write the IF/ELSE statement."
   ]
  },
  {
   "cell_type": "code",
   "execution_count": null,
   "metadata": {},
   "outputs": [],
   "source": [
    "#import random\n",
    "\n",
    "#def dice_roll():\n",
    "#    sides = int(input('Input the number of sides on your die: '))\n",
    "#    roll = random.randint(1, sides)\n",
    "#    print('You rolled a', roll)   \n",
    "    roll_again = str(input('Would you like to roll again? Please enter Y or N to continue: '))\n",
    "    if roll_again == 'Y' or roll_again == 'y' or roll_again == 'yes'  or roll_again == 'YES':\n",
    "        return dice_roll()\n",
    "    else: \n",
    "        print('Thanks for playing!') "
   ]
  },
  {
   "cell_type": "markdown",
   "metadata": {},
   "source": [
    "#### *roll_again explained*\n",
    "\n",
    "This time we want the user input to be an str (string) data type because the user will be answering with letters or words. Within the input() function we enter the message and instructions we want our user to see: 'Would you like to roll again? Please enter Y or N to continue: '.  \n",
    "\n",
    "Text input structure >> ***the_variable* = str(input('The text you want your user to see: '))** "
   ]
  },
  {
   "cell_type": "markdown",
   "metadata": {},
   "source": [
    "#### *if/else explained*  \n",
    "\n",
    "Because we have asked the user for a response, we now want our code to do something with it. One way is with an if/else statement. \n",
    "\n",
    "We tell the program **if** something happens do this **else** do something else. \n",
    "In our case the *something happens* refers to what the user writes as their response, the *do this* refers to making the dice app ask the user to choose the sides on their die again, the *something else* refers to ending the dice app. \n",
    "\n",
    "In the IF statement, lots of options for yes have been provided so that the user can write any variation of yes and continue rolling. Generally this is not best practice as an IF statement should capture the action without over-reliance on **and statements** or **or statements**. One option would be to use .lower() at the end of the input so that lowercase answers are accepted. \n",
    "\n",
    "IF/ELSE structure >>  \n",
    "**if *a_condition_to_be_met* = a_value_of_the_condition:**  \n",
    "&nbsp;&nbsp;&nbsp;&nbsp;**return an_action**  \n",
    "**else:**   \n",
    "&nbsp;&nbsp;&nbsp;&nbsp;**return a_different_action**\n"
   ]
  },
  {
   "cell_type": "markdown",
   "metadata": {},
   "source": [
    "### Step 6 - Invoke the function"
   ]
  },
  {
   "cell_type": "markdown",
   "metadata": {},
   "source": [
    "To run our code we must now invoke the function.  \n",
    "\n",
    "This means referencing the function somewhere else in the code (anywhere outside the function itself). It is important not to forget the () as the code will not run without them.\n",
    "\n",
    "Invoke a function structure >> **the_function(function arguments, if any)**"
   ]
  },
  {
   "cell_type": "code",
   "execution_count": null,
   "metadata": {},
   "outputs": [],
   "source": [
    "#import random\n",
    "\n",
    "#def dice_roll():\n",
    "    #sides = int(input('Input the number of sides on your die: '))\n",
    "    #roll = random.randint(1, sides)\n",
    "    #print('You rolled a', roll)   \n",
    "    #roll_again = str(input('Would you like to roll again? Please enter Y or N to continue: '))\n",
    "    #if roll_again == 'Y' or roll_again == 'Y' or roll_again == 'y' or roll_again == 'yes'  or roll_again == 'YES':\n",
    "        #return dice_roll()\n",
    "    #else: \n",
    "        #print('Thanks for playing!') \n",
    "  \n",
    "dice_roll()"
   ]
  },
  {
   "cell_type": "markdown",
   "metadata": {},
   "source": [
    "## Version 2 - Using WHILE loop"
   ]
  },
  {
   "cell_type": "markdown",
   "metadata": {},
   "source": [
    "### The finished code"
   ]
  },
  {
   "cell_type": "code",
   "execution_count": null,
   "metadata": {},
   "outputs": [],
   "source": [
    "import random\n",
    "\n",
    "def dice_roll():\n",
    "    sides = int(input('Input the number of sides on your die: '))\n",
    "    roll = random.randint(1, sides)\n",
    "    print('You rolled a', roll)   \n",
    "    roll_again = str(input('Would you like to roll again? Please enter Y or N to continue: '))\n",
    "    while roll_again == 'Y' or roll_again == 'y' or roll_again == 'yes'  or roll_again == 'YES':\n",
    "        return dice_roll()\n",
    "    print('Thanks for playing!') \n",
    "  \n",
    "dice_roll()"
   ]
  },
  {
   "cell_type": "markdown",
   "metadata": {},
   "source": [
    "### Follow Steps 1 through 4 from Version 1 - Using IF/ELSE"
   ]
  },
  {
   "cell_type": "code",
   "execution_count": null,
   "metadata": {},
   "outputs": [],
   "source": [
    "import random\n",
    "\n",
    "def dice_roll():\n",
    "    sides = int(input('Input the number of sides on your die: '))\n",
    "    roll = random.randint(1, sides)\n",
    "    print('You rolled a', roll)"
   ]
  },
  {
   "cell_type": "markdown",
   "metadata": {},
   "source": [
    "### Step 5 - Create option to roll again with user input and the WHILE loop."
   ]
  },
  {
   "cell_type": "markdown",
   "metadata": {},
   "source": [
    "Using the same method as Version 1, add a user input option that asks if they want to roll again. "
   ]
  },
  {
   "cell_type": "code",
   "execution_count": null,
   "metadata": {},
   "outputs": [],
   "source": [
    "#import random\n",
    "\n",
    "#def dice_roll():\n",
    "    #sides = int(input('Input the number of sides on your die: '))\n",
    "    #roll = random.randint(1, sides)\n",
    "    #print('You rolled a', roll)   \n",
    "    roll_again = str(input('Would you like to roll again? Please enter Y or N to continue: '))\n",
    "    while roll_again == 'Y' or roll_again == 'y' or roll_again == 'yes'  or roll_again == 'YES':\n",
    "        return dice_roll()\n",
    "    print('Thanks for playing!') "
   ]
  },
  {
   "cell_type": "markdown",
   "metadata": {},
   "source": [
    "#### *while explained*  \n",
    "\n",
    "Another way we can get our code to do something in response to the user input is through a while loop. \n",
    "\n",
    "We tell the program that **while** something is happening do this otherwise do something else and end the loop. \n",
    "In this case the *something is happening* refers to what the user writes as their response i.e. as long as the user responds with one of the accepted responses to continue rolling, the dice app will continue to run from beginnning to end. The *do something else and end the loop* refers to making the dice app print 'Thanks for playing!'and to stop running the dice app. \n",
    "\n",
    ">**Caution:** It is possible to create infinite loops when using while if you are not careful enough to define a way for the loop to stop. To avoid this, **break** can be used to force the program to stop. Simply write **break** wherever you want a program to end.\n",
    "\n",
    "IF/ELSE structure >>  \n",
    "**while *a_condition_to_be_met* = a_value_of_the_condition:**  \n",
    "&nbsp;&nbsp;&nbsp;&nbsp;**return an_action**    \n",
    "**return a_different_action**"
   ]
  },
  {
   "cell_type": "markdown",
   "metadata": {},
   "source": [
    "## Stretch Version - Importing the dice as an application  "
   ]
  },
  {
   "cell_type": "markdown",
   "metadata": {},
   "source": [
    "### Step 1 - Create a dice.py file"
   ]
  },
  {
   "cell_type": "markdown",
   "metadata": {},
   "source": [
    "The function will look similar to the WHILE loop example in Version 2 except that this time, an argument is being passed into the function. This means that within the brackets, we are adding something that will change how the function operates."
   ]
  },
  {
   "cell_type": "code",
   "execution_count": null,
   "metadata": {},
   "outputs": [],
   "source": [
    "# dice.py file\n",
    "import random\n",
    "\n",
    "def dice_roll():\n",
    "    sides = int(input('Input the number of sides on your die: '))\n",
    "    roll = random.randint(1, sides)\n",
    "    print('You rolled a', roll)   \n",
    "    roll_again = str(input('Would you like to roll again? Please enter Y or N to continue: '))\n",
    "    while roll_again == 'Y' or roll_again == 'y' or roll_again == 'yes'  or roll_again == 'YES':\n",
    "        return dice_roll(sides)\n",
    "    print('Thanks for playing!')"
   ]
  },
  {
   "cell_type": "markdown",
   "metadata": {},
   "source": [
    "### Step 2 - Create an application file (recommended name: dice_app.py) "
   ]
  },
  {
   "cell_type": "code",
   "execution_count": null,
   "metadata": {},
   "outputs": [],
   "source": [
    "# dice_app.py file\n",
    "import dice\n",
    "\n",
    "dice.dice_roll()"
   ]
  }
 ],
 "metadata": {
  "language_info": {
   "name": "python"
  },
  "orig_nbformat": 4
 },
 "nbformat": 4,
 "nbformat_minor": 2
}
